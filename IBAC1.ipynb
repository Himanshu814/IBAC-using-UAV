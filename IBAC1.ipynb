{
  "nbformat": 4,
  "nbformat_minor": 0,
  "metadata": {
    "colab": {
      "provenance": []
    },
    "kernelspec": {
      "name": "python3",
      "display_name": "Python 3"
    },
    "language_info": {
      "name": "python"
    },
    "accelerator": "GPU",
    "gpuClass": "standard"
  },
  "cells": [
    {
      "cell_type": "markdown",
      "source": [
        "MOUNT GOOGLE **DRIVE**"
      ],
      "metadata": {
        "id": "fe3S0uXE8KUJ"
      }
    },
    {
      "cell_type": "code",
      "execution_count": null,
      "metadata": {
        "colab": {
          "base_uri": "https://localhost:8080/"
        },
        "id": "IDXNaNP08Fqz",
        "outputId": "3f4369b1-eed0-4270-bf49-de6f28a866a3"
      },
      "outputs": [
        {
          "output_type": "stream",
          "name": "stdout",
          "text": [
            "Mounted at /content/Drive\n"
          ]
        }
      ],
      "source": [
        "# Mount Google Drive\n",
        "from google.colab import drive\n",
        "drive.mount(\"/content/Drive\", force_remount = True)"
      ]
    },
    {
      "cell_type": "markdown",
      "source": [
        "**IMPORTS**"
      ],
      "metadata": {
        "id": "ln_zBP6R8psv"
      }
    },
    {
      "cell_type": "code",
      "source": [
        "from tensorflow import keras\n",
        "from tensorflow.keras.applications.xception import Xception\n",
        "from tensorflow.keras.preprocessing.image import ImageDataGenerator\n",
        "from tensorflow.keras.models import Sequential\n",
        "from tensorflow.keras.layers import Conv2D, Flatten, MaxPooling2D, Dense, Dropout, GlobalAveragePooling2D\n",
        "from tensorflow.keras import optimizers, losses\n",
        "from tensorflow.keras.callbacks import ModelCheckpoint\n",
        "from tensorflow.keras.preprocessing import image\n",
        "\n",
        "import os\n",
        "import shutil\n",
        "import pickle\n",
        "import numpy as np\n",
        "import pandas as pd\n",
        "import matplotlib.pyplot as plt\n",
        "import seaborn as sns\n",
        "sns.set_style(\"whitegrid\")\n",
        "\n",
        "from sklearn.metrics import classification_report\n",
        "\n",
        "import warnings\n",
        "warnings.filterwarnings(\"ignore\")"
      ],
      "metadata": {
        "id": "k4nsDQx88jIk"
      },
      "execution_count": null,
      "outputs": []
    },
    {
      "cell_type": "markdown",
      "source": [
        "DATA PREPARATION\n",
        "\n",
        "\n"
      ],
      "metadata": {
        "id": "QA0zXBc59lAG"
      }
    },
    {
      "cell_type": "code",
      "source": [
        "# Unzip data to runtime\n",
        "!unzip \"./Drive/MyDrive/Disaster/damage.zip\" -d \"./\""
      ],
      "metadata": {
        "colab": {
          "base_uri": "https://localhost:8080/"
        },
        "id": "w7y2hsSz8u5Z",
        "outputId": "f1987e60-e2b8-4f9a-fc94-a6e4abe9adee"
      },
      "execution_count": null,
      "outputs": [
        {
          "output_type": "stream",
          "name": "stdout",
          "text": [
            "Archive:  ./Drive/MyDrive/Disaster/damage.zip\n",
            "   creating: ./damage/\n",
            "   creating: ./damage/D0 level/\n",
            "  inflating: ./damage/D0 level/06_02_0001.png  \n",
            "  inflating: ./damage/D0 level/06_02_0002.png  \n",
            "  inflating: ./damage/D0 level/06_02_0003.png  \n",
            "  inflating: ./damage/D0 level/06_02_0004.png  \n",
            "  inflating: ./damage/D0 level/06_02_0005.png  \n",
            "  inflating: ./damage/D0 level/06_02_0006.png  \n",
            "  inflating: ./damage/D0 level/06_02_0007.png  \n",
            "  inflating: ./damage/D0 level/06_02_0008.png  \n",
            "  inflating: ./damage/D0 level/06_02_0009.png  \n",
            "  inflating: ./damage/D0 level/06_02_0010.png  \n",
            "  inflating: ./damage/D0 level/06_02_0011.png  \n",
            "  inflating: ./damage/D0 level/06_02_0012.png  \n",
            "  inflating: ./damage/D0 level/06_02_0013.png  \n",
            "  inflating: ./damage/D0 level/06_02_0014.png  \n",
            "  inflating: ./damage/D0 level/06_02_0015.png  \n",
            "  inflating: ./damage/D0 level/06_02_0016.png  \n",
            "  inflating: ./damage/D0 level/06_02_0017.png  \n",
            "  inflating: ./damage/D0 level/06_02_0018.png  \n",
            "  inflating: ./damage/D0 level/06_02_0019.png  \n",
            "  inflating: ./damage/D0 level/06_02_0020.png  \n",
            "  inflating: ./damage/D0 level/06_02_0021.png  \n",
            "  inflating: ./damage/D0 level/06_02_0022.png  \n",
            "  inflating: ./damage/D0 level/06_02_0023.png  \n",
            "  inflating: ./damage/D0 level/06_02_0024.png  \n",
            "  inflating: ./damage/D0 level/06_02_0025.png  \n",
            "  inflating: ./damage/D0 level/06_02_0026.png  \n",
            "  inflating: ./damage/D0 level/06_02_0027.png  \n",
            "  inflating: ./damage/D0 level/06_02_0028.png  \n",
            "  inflating: ./damage/D0 level/06_02_0044.png  \n",
            "  inflating: ./damage/D0 level/06_02_0045.png  \n",
            "  inflating: ./damage/D0 level/06_02_0046.png  \n",
            "  inflating: ./damage/D0 level/06_02_0070.png  \n",
            "  inflating: ./damage/D0 level/06_02_0210.png  \n",
            "  inflating: ./damage/D0 level/06_02_0322.png  \n",
            "  inflating: ./damage/D0 level/06_02_0336.png  \n",
            "   creating: ./damage/D1 level/\n",
            "  inflating: ./damage/D1 level/architecture-detail-damaged-house-corner-dilapidated-old-house-building-67208027.jpg  \n",
            "  inflating: ./damage/D1 level/closeup-cracked-wall-house-destroyed-strong-earthquake-tbilisi-georgia-damage-buiding-252127057.jpg  \n",
            "  inflating: ./damage/D1 level/cracked-wall-house-destroyed-strong-earthquake-tbilisi-georgia-damage-buiding-closeup-248649935.jpg  \n",
            "  inflating: ./damage/D1 level/cracks-cement-conrete-building-foundation-cracked-building-foundation-171689304.jpg  \n",
            "  inflating: ./damage/D1 level/damaged-clay-roof-tiles-pitched-uk-derelict-house-england-177242252 (1).jpg  \n",
            "  inflating: ./damage/D1 level/damaged-clay-roof-tiles-pitched-uk-derelict-house-england-177242252.jpg  \n",
            "  inflating: ./damage/D1 level/damaged-plaster-house-detail-battered-32666299 (1).jpg  \n",
            "  inflating: ./damage/D1 level/damaged-plaster-house-detail-battered-32666299.jpg  \n",
            "  inflating: ./damage/D1 level/decay-structural-damage-building-abandoned-house-rural-area-decay-structural-damage-building-200632246.jpg  \n",
            "  inflating: ./damage/D1 level/demolished-building-abandoned-earthquake-93366584.jpg  \n",
            "  inflating: ./damage/D1 level/earthquake-damage-apartment-buiding-mexico-city-111603381.jpg  \n",
            "  inflating: ./damage/D1 level/hurricane-damaged-property-out-business-no-revenue-protection-storm-rains-typhoon-flooding-demolished-building-home-loss-119660777.jpg  \n",
            "  inflating: ./damage/D1 level/hurricane-destruction-to-homes-lives-property-protection-storm-rains-typhoon-flooding-demolished-building-home-loss-119659499.jpg  \n",
            "  inflating: ./damage/D1 level/interior-wall-damage-15575629.jpg  \n",
            "  inflating: ./damage/D1 level/old-building-there-broken-roof-tiles-broken-roof-tiles-197420537.jpg  \n",
            "  inflating: ./damage/D1 level/old-ruined-abandoned-house-city-damaged-plaster-cracked-brick-wall-old-ruined-abandoned-house-city-115593703.jpg  \n",
            "  inflating: ./damage/D1 level/structural-damage-17976440.jpg  \n",
            "  inflating: ./damage/D1 level/uprooted-tree-lands-home-storm-mature-pine-seen-fallen-front-facade-quirky-detached-mother-248855087.jpg  \n",
            "  inflating: ./damage/D1 level/white-wall-door-case-crack-old-house-long-rip-structural-damage-56855690.jpg  \n",
            "  inflating: ./damage/D1 level/white-wall-room-crack-rip-corner-old-house-long-structural-damage-56855712.jpg  \n",
            "  inflating: ./damage/D1 level/window-floor-structural-damage-194417522.jpg  \n",
            "   creating: ./damage/D2-D3 level/\n",
            "  inflating: ./damage/D2-D3 level/05_01_0004.png  \n",
            "  inflating: ./damage/D2-D3 level/05_01_0051.png  \n",
            "  inflating: ./damage/D2-D3 level/05_01_0087.png  \n",
            "  inflating: ./damage/D2-D3 level/05_01_0092.png  \n",
            "  inflating: ./damage/D2-D3 level/05_01_0096.png  \n",
            "  inflating: ./damage/D2-D3 level/05_01_0127.png  \n",
            "  inflating: ./damage/D2-D3 level/05_01_0176.png  \n",
            "  inflating: ./damage/D2-D3 level/05_01_0243.png  \n",
            "  inflating: ./damage/D2-D3 level/05_01_0293.png  \n",
            "  inflating: ./damage/D2-D3 level/05_01_0345.png  \n",
            "  inflating: ./damage/D2-D3 level/05_01_0444.png  \n",
            "  inflating: ./damage/D2-D3 level/05_01_0451.png  \n",
            "  inflating: ./damage/D2-D3 level/05_01_0590.png  \n",
            "  inflating: ./damage/D2-D3 level/05_01_0638.png  \n",
            "  inflating: ./damage/D2-D3 level/05_01_0805.png  \n",
            "  inflating: ./damage/D2-D3 level/05_01_0848.png  \n",
            "  inflating: ./damage/D2-D3 level/05_01_0853.png  \n",
            "  inflating: ./damage/D2-D3 level/05_01_0862.png  \n",
            "  inflating: ./damage/D2-D3 level/05_01_0863.png  \n",
            "  inflating: ./damage/D2-D3 level/05_01_0970.png  \n",
            "  inflating: ./damage/D2-D3 level/05_01_1008.png  \n",
            "  inflating: ./damage/D2-D3 level/05_01_1023.png  \n",
            "  inflating: ./damage/D2-D3 level/05_01_1063.png  \n",
            "  inflating: ./damage/D2-D3 level/05_01_1080.png  \n",
            "  inflating: ./damage/D2-D3 level/05_01_1174.png  \n",
            "  inflating: ./damage/D2-D3 level/05_01_1212.png  \n",
            "  inflating: ./damage/D2-D3 level/05_01_1217.png  \n",
            "  inflating: ./damage/D2-D3 level/05_01_1252.png  \n",
            "  inflating: ./damage/D2-D3 level/05_01_1261.png  \n",
            "  inflating: ./damage/D2-D3 level/05_01_1276.png  \n",
            "  inflating: ./damage/D2-D3 level/05_01_1301.png  \n",
            "  inflating: ./damage/D2-D3 level/05_01_1303.png  \n",
            "  inflating: ./damage/D2-D3 level/05_01_1323.png  \n",
            "  inflating: ./damage/D2-D3 level/05_01_1326.png  \n",
            "  inflating: ./damage/D2-D3 level/05_01_1370.png  \n",
            "  inflating: ./damage/D2-D3 level/05_02_0020.png  \n",
            "  inflating: ./damage/D2-D3 level/download (1).jpeg  \n",
            "  inflating: ./damage/D2-D3 level/download.jpeg  \n",
            "   creating: ./damage/D4-D5 level/\n",
            "  inflating: ./damage/D4-D5 level/05_01_0024.png  \n",
            "  inflating: ./damage/D4-D5 level/05_01_0029.png  \n",
            "  inflating: ./damage/D4-D5 level/05_01_0041.png  \n",
            "  inflating: ./damage/D4-D5 level/05_01_0181.png  \n",
            "  inflating: ./damage/D4-D5 level/05_01_0248.png  \n",
            "  inflating: ./damage/D4-D5 level/05_01_0259.png  \n",
            "  inflating: ./damage/D4-D5 level/05_01_0288.png  \n",
            "  inflating: ./damage/D4-D5 level/05_01_0329.png  \n",
            "  inflating: ./damage/D4-D5 level/05_01_0337.png  \n",
            "  inflating: ./damage/D4-D5 level/05_01_0352.png  \n",
            "  inflating: ./damage/D4-D5 level/05_01_0396.png  \n",
            "  inflating: ./damage/D4-D5 level/05_01_0432.png  \n",
            "  inflating: ./damage/D4-D5 level/05_01_0476.png  \n",
            "  inflating: ./damage/D4-D5 level/05_01_0510.png  \n",
            "  inflating: ./damage/D4-D5 level/05_01_0512.png  \n",
            "  inflating: ./damage/D4-D5 level/05_01_0541.png  \n",
            "  inflating: ./damage/D4-D5 level/05_01_0594.png  \n",
            "  inflating: ./damage/D4-D5 level/05_01_0613.png  \n",
            "  inflating: ./damage/D4-D5 level/05_01_0680.png  \n",
            "  inflating: ./damage/D4-D5 level/05_01_0721.png  \n",
            "  inflating: ./damage/D4-D5 level/05_01_0728.png  \n",
            "  inflating: ./damage/D4-D5 level/05_01_0735.png  \n",
            "  inflating: ./damage/D4-D5 level/05_01_0831.png  \n",
            "  inflating: ./damage/D4-D5 level/05_01_0890.png  \n",
            "  inflating: ./damage/D4-D5 level/05_01_0905.png  \n",
            "  inflating: ./damage/D4-D5 level/05_01_0946.png  \n",
            "  inflating: ./damage/D4-D5 level/05_01_0974.png  \n",
            "  inflating: ./damage/D4-D5 level/05_01_1100.png  \n",
            "  inflating: ./damage/D4-D5 level/05_01_1156.png  \n",
            "  inflating: ./damage/D4-D5 level/05_01_1197.png  \n",
            "  inflating: ./damage/D4-D5 level/05_01_1213.png  \n",
            "  inflating: ./damage/D4-D5 level/05_01_1232.png  \n",
            "  inflating: ./damage/D4-D5 level/05_01_1266.png  \n",
            "  inflating: ./damage/D4-D5 level/05_01_1286.png  \n",
            "  inflating: ./damage/D4-D5 level/05_01_1292.png  \n",
            "  inflating: ./damage/D4-D5 level/05_01_1302.png  \n",
            "  inflating: ./damage/D4-D5 level/05_01_1334.png  \n",
            "  inflating: ./damage/D4-D5 level/05_01_1371.png  \n",
            "  inflating: ./damage/D4-D5 level/05_01_1405.png  \n",
            "  inflating: ./damage/D4-D5 level/230210120225-01-turkey-syria-earthquake-recovery-intl-exlarge-169.jpg  \n"
          ]
        }
      ]
    },
    {
      "cell_type": "code",
      "source": [
        "# Base Path for all files\n",
        "data_dir = './damage'"
      ],
      "metadata": {
        "id": "RxewjVrh9ksc"
      },
      "execution_count": null,
      "outputs": []
    },
    {
      "cell_type": "code",
      "source": [
        "# Using ImageDataGenerator to load the Images for Training and Testing the CNN Model\n",
        "datagenerator = {\n",
        "    \"train\": ImageDataGenerator(\n",
        "        horizontal_flip=True,\n",
        "        vertical_flip=True,\n",
        "        rescale=1. / 255,\n",
        "        validation_split=0.1,\n",
        "        shear_range=0.1,\n",
        "        zoom_range=0.1,\n",
        "        width_shift_range=0.1,\n",
        "        height_shift_range=0.1,\n",
        "        rotation_range=30\n",
        "    ).flow_from_directory(\n",
        "        directory=data_dir,\n",
        "        target_size=(300, 300),\n",
        "        subset='training'\n",
        "    ),\n",
        "\n",
        "    \"valid\": ImageDataGenerator(\n",
        "        rescale=1 / 255,\n",
        "        validation_split=0.1\n",
        "    ).flow_from_directory(\n",
        "        directory=data_dir,\n",
        "        target_size=(300, 300),\n",
        "        subset='validation'\n",
        "    )\n",
        "}"
      ],
      "metadata": {
        "colab": {
          "base_uri": "https://localhost:8080/"
        },
        "id": "4AQZwiNK-Czn",
        "outputId": "42d01180-638f-4857-9050-38ebc78facc5"
      },
      "execution_count": null,
      "outputs": [
        {
          "output_type": "stream",
          "name": "stdout",
          "text": [
            "Found 122 images belonging to 4 classes.\n",
            "Found 12 images belonging to 4 classes.\n"
          ]
        }
      ]
    },
    {
      "cell_type": "markdown",
      "source": [
        "BUILDING XCEPTION MODEL"
      ],
      "metadata": {
        "id": "mCKo9mL-_cSt"
      }
    },
    {
      "cell_type": "markdown",
      "source": [
        "Initializing Base Model"
      ],
      "metadata": {
        "id": "9igBuaxo_m3k"
      }
    },
    {
      "cell_type": "code",
      "source": [
        "# Initializing Xception (pretrained) model with input image shape as (300, 300, 3)\n",
        "base_model = Xception(\n",
        "    weights=\"imagenet\",\n",
        "    include_top=False,\n",
        "    input_shape=(300, 300, 3)\n",
        ")\n",
        "\n",
        "# Setting the Training of all layers of Xception model to True\n",
        "base_model.trainable = True"
      ],
      "metadata": {
        "colab": {
          "base_uri": "https://localhost:8080/"
        },
        "id": "YXtSCoXD_tn2",
        "outputId": "4ba7ade8-76cf-4b0c-db0d-432a461cc6b6"
      },
      "execution_count": null,
      "outputs": [
        {
          "output_type": "stream",
          "name": "stdout",
          "text": [
            "Downloading data from https://storage.googleapis.com/tensorflow/keras-applications/xception/xception_weights_tf_dim_ordering_tf_kernels_notop.h5\n",
            "83683744/83683744 [==============================] - 1s 0us/step\n"
          ]
        }
      ]
    },
    {
      "cell_type": "markdown",
      "source": [
        "Adding More Layers"
      ],
      "metadata": {
        "id": "3JPtnajA_0xr"
      }
    },
    {
      "cell_type": "code",
      "source": [
        "# Adding some more layers at the end of the Model as per our requirement\n",
        "model = Sequential([\n",
        "    base_model,\n",
        "    GlobalAveragePooling2D(),\n",
        "    Dropout(0.15),\n",
        "    Dense(1024, activation='relu'),\n",
        "    Dense(4, activation='softmax') # 2 Output Neurons for 2 Classes\n",
        "])"
      ],
      "metadata": {
        "id": "sluQxIeo_70c"
      },
      "execution_count": null,
      "outputs": []
    },
    {
      "cell_type": "markdown",
      "source": [
        "Adam Optimizer"
      ],
      "metadata": {
        "id": "8FwuDwOEAH2v"
      }
    },
    {
      "cell_type": "code",
      "source": [
        "# Using the Adam Optimizer to set the learning rate of our final model\n",
        "opt = optimizers.Adam(learning_rate = 1e-4)\n",
        "\n",
        "# Compiling and setting the parameters we want our model to use\n",
        "model.compile(\n",
        "    loss=\"categorical_crossentropy\",\n",
        "    optimizer=opt,\n",
        "    metrics=['accuracy']\n",
        ")"
      ],
      "metadata": {
        "id": "SmXncN1xAB1r"
      },
      "execution_count": null,
      "outputs": []
    },
    {
      "cell_type": "code",
      "source": [
        "# Viewing the summary of the model\n",
        "model.summary()"
      ],
      "metadata": {
        "colab": {
          "base_uri": "https://localhost:8080/"
        },
        "id": "g3ugSsBiAVgH",
        "outputId": "66378f29-0e6f-4735-aa53-3af6979f6f0d"
      },
      "execution_count": null,
      "outputs": [
        {
          "output_type": "stream",
          "name": "stdout",
          "text": [
            "Model: \"sequential\"\n",
            "_________________________________________________________________\n",
            " Layer (type)                Output Shape              Param #   \n",
            "=================================================================\n",
            " xception (Functional)       (None, 10, 10, 2048)      20861480  \n",
            "                                                                 \n",
            " global_average_pooling2d (G  (None, 2048)             0         \n",
            " lobalAveragePooling2D)                                          \n",
            "                                                                 \n",
            " dropout (Dropout)           (None, 2048)              0         \n",
            "                                                                 \n",
            " dense (Dense)               (None, 1024)              2098176   \n",
            "                                                                 \n",
            " dense_1 (Dense)             (None, 4)                 4100      \n",
            "                                                                 \n",
            "=================================================================\n",
            "Total params: 22,963,756\n",
            "Trainable params: 22,909,228\n",
            "Non-trainable params: 54,528\n",
            "_________________________________________________________________\n"
          ]
        }
      ]
    },
    {
      "cell_type": "markdown",
      "source": [
        "Separation Train and Test Data"
      ],
      "metadata": {
        "id": "5G6y6ymUApEm"
      }
    },
    {
      "cell_type": "code",
      "source": [
        "# Setting variables for the model\n",
        "batch_size = 64\n",
        "epochs = 10\n",
        "\n",
        "# Seperating Training and Testing Data\n",
        "train_generator = datagenerator[\"train\"]\n",
        "valid_generator = datagenerator[\"valid\"]"
      ],
      "metadata": {
        "id": "wLGHSemkAxRH"
      },
      "execution_count": null,
      "outputs": []
    },
    {
      "cell_type": "code",
      "source": [
        "for i in os.listdir(\"/content/damage/\"):\n",
        "  print(len(os.listdir(\"/content/damage/\" + i)))"
      ],
      "metadata": {
        "colab": {
          "base_uri": "https://localhost:8080/"
        },
        "id": "XhLwv6KhgCSd",
        "outputId": "93055432-ac93-435d-8eff-b5f93c953cbe"
      },
      "execution_count": null,
      "outputs": [
        {
          "output_type": "stream",
          "name": "stdout",
          "text": [
            "38\n",
            "40\n",
            "35\n",
            "21\n"
          ]
        }
      ]
    },
    {
      "cell_type": "code",
      "source": [
        "!rm -rf \"/content/CNN-Models\""
      ],
      "metadata": {
        "id": "5nPoRmjMgS0f"
      },
      "execution_count": null,
      "outputs": []
    },
    {
      "cell_type": "code",
      "source": [
        "# Calculating variables for the model\n",
        "steps_per_epoch = train_generator.n // batch_size\n",
        "validation_steps = valid_generator.n // batch_size\n",
        "\n",
        "print(\"steps_per_epoch :\", steps_per_epoch)\n",
        "print(\"validation_steps :\", validation_steps)"
      ],
      "metadata": {
        "colab": {
          "base_uri": "https://localhost:8080/"
        },
        "id": "lcBt47nZA09G",
        "outputId": "67173a10-95cf-4303-fe06-756dc7d2b253"
      },
      "execution_count": null,
      "outputs": [
        {
          "output_type": "stream",
          "name": "stdout",
          "text": [
            "steps_per_epoch : 1\n",
            "validation_steps : 0\n"
          ]
        }
      ]
    },
    {
      "cell_type": "markdown",
      "source": [
        "Training Model"
      ],
      "metadata": {
        "id": "96d5qkPYA6Xc"
      }
    },
    {
      "cell_type": "code",
      "source": [
        "# Training the Model\n",
        "history = model.fit_generator(\n",
        "    generator=train_generator,\n",
        "    epochs=epochs,\n",
        "    steps_per_epoch=steps_per_epoch,\n",
        "    validation_data=valid_generator,\n",
        "    validation_steps=validation_steps,\n",
        ")"
      ],
      "metadata": {
        "colab": {
          "base_uri": "https://localhost:8080/"
        },
        "id": "mt6cQXkxA82C",
        "outputId": "b612e588-8a5b-460a-9eff-e12fa646c8cf"
      },
      "execution_count": null,
      "outputs": [
        {
          "output_type": "stream",
          "name": "stdout",
          "text": [
            "Epoch 1/10\n",
            "1/1 [==============================] - 40s 40s/step - loss: 1.3726 - accuracy: 0.3125\n",
            "Epoch 2/10\n",
            "1/1 [==============================] - 5s 5s/step - loss: 1.3059 - accuracy: 0.5000\n",
            "Epoch 3/10\n",
            "1/1 [==============================] - 1s 1s/step - loss: 1.2778 - accuracy: 0.4615\n",
            "Epoch 4/10\n",
            "1/1 [==============================] - 2s 2s/step - loss: 1.2020 - accuracy: 0.5625\n",
            "Epoch 5/10\n",
            "1/1 [==============================] - 2s 2s/step - loss: 1.3125 - accuracy: 0.3462\n",
            "Epoch 6/10\n",
            "1/1 [==============================] - 2s 2s/step - loss: 1.0700 - accuracy: 0.5938\n",
            "Epoch 7/10\n",
            "1/1 [==============================] - 2s 2s/step - loss: 1.1273 - accuracy: 0.5625\n",
            "Epoch 8/10\n",
            "1/1 [==============================] - 2s 2s/step - loss: 1.0317 - accuracy: 0.5938\n",
            "Epoch 9/10\n",
            "1/1 [==============================] - 2s 2s/step - loss: 0.9687 - accuracy: 0.5625\n",
            "Epoch 10/10\n",
            "1/1 [==============================] - 2s 2s/step - loss: 0.8610 - accuracy: 0.8125\n"
          ]
        }
      ]
    },
    {
      "cell_type": "code",
      "source": [
        "print(history.history.keys())"
      ],
      "metadata": {
        "colab": {
          "base_uri": "https://localhost:8080/"
        },
        "id": "O3zQSTx2fuWZ",
        "outputId": "3189d68d-98f2-4147-8d11-d18db25ebc03"
      },
      "execution_count": null,
      "outputs": [
        {
          "output_type": "stream",
          "name": "stdout",
          "text": [
            "dict_keys(['loss', 'accuracy'])\n"
          ]
        }
      ]
    },
    {
      "cell_type": "code",
      "source": [
        "history_df = pd.DataFrame.from_dict(history.history)\n",
        "history_df"
      ],
      "metadata": {
        "colab": {
          "base_uri": "https://localhost:8080/",
          "height": 363
        },
        "id": "j9O19JYmg02Q",
        "outputId": "ec04a750-3452-4491-8f61-e59fa25da9c5"
      },
      "execution_count": null,
      "outputs": [
        {
          "output_type": "execute_result",
          "data": {
            "text/plain": [
              "       loss  accuracy\n",
              "0  1.372575  0.312500\n",
              "1  1.305946  0.500000\n",
              "2  1.277812  0.461538\n",
              "3  1.201995  0.562500\n",
              "4  1.312528  0.346154\n",
              "5  1.070003  0.593750\n",
              "6  1.127324  0.562500\n",
              "7  1.031672  0.593750\n",
              "8  0.968748  0.562500\n",
              "9  0.861019  0.812500"
            ],
            "text/html": [
              "\n",
              "  <div id=\"df-f2b87eeb-c70d-4411-b366-b604c92b4f22\">\n",
              "    <div class=\"colab-df-container\">\n",
              "      <div>\n",
              "<style scoped>\n",
              "    .dataframe tbody tr th:only-of-type {\n",
              "        vertical-align: middle;\n",
              "    }\n",
              "\n",
              "    .dataframe tbody tr th {\n",
              "        vertical-align: top;\n",
              "    }\n",
              "\n",
              "    .dataframe thead th {\n",
              "        text-align: right;\n",
              "    }\n",
              "</style>\n",
              "<table border=\"1\" class=\"dataframe\">\n",
              "  <thead>\n",
              "    <tr style=\"text-align: right;\">\n",
              "      <th></th>\n",
              "      <th>loss</th>\n",
              "      <th>accuracy</th>\n",
              "    </tr>\n",
              "  </thead>\n",
              "  <tbody>\n",
              "    <tr>\n",
              "      <th>0</th>\n",
              "      <td>1.372575</td>\n",
              "      <td>0.312500</td>\n",
              "    </tr>\n",
              "    <tr>\n",
              "      <th>1</th>\n",
              "      <td>1.305946</td>\n",
              "      <td>0.500000</td>\n",
              "    </tr>\n",
              "    <tr>\n",
              "      <th>2</th>\n",
              "      <td>1.277812</td>\n",
              "      <td>0.461538</td>\n",
              "    </tr>\n",
              "    <tr>\n",
              "      <th>3</th>\n",
              "      <td>1.201995</td>\n",
              "      <td>0.562500</td>\n",
              "    </tr>\n",
              "    <tr>\n",
              "      <th>4</th>\n",
              "      <td>1.312528</td>\n",
              "      <td>0.346154</td>\n",
              "    </tr>\n",
              "    <tr>\n",
              "      <th>5</th>\n",
              "      <td>1.070003</td>\n",
              "      <td>0.593750</td>\n",
              "    </tr>\n",
              "    <tr>\n",
              "      <th>6</th>\n",
              "      <td>1.127324</td>\n",
              "      <td>0.562500</td>\n",
              "    </tr>\n",
              "    <tr>\n",
              "      <th>7</th>\n",
              "      <td>1.031672</td>\n",
              "      <td>0.593750</td>\n",
              "    </tr>\n",
              "    <tr>\n",
              "      <th>8</th>\n",
              "      <td>0.968748</td>\n",
              "      <td>0.562500</td>\n",
              "    </tr>\n",
              "    <tr>\n",
              "      <th>9</th>\n",
              "      <td>0.861019</td>\n",
              "      <td>0.812500</td>\n",
              "    </tr>\n",
              "  </tbody>\n",
              "</table>\n",
              "</div>\n",
              "      <button class=\"colab-df-convert\" onclick=\"convertToInteractive('df-f2b87eeb-c70d-4411-b366-b604c92b4f22')\"\n",
              "              title=\"Convert this dataframe to an interactive table.\"\n",
              "              style=\"display:none;\">\n",
              "        \n",
              "  <svg xmlns=\"http://www.w3.org/2000/svg\" height=\"24px\"viewBox=\"0 0 24 24\"\n",
              "       width=\"24px\">\n",
              "    <path d=\"M0 0h24v24H0V0z\" fill=\"none\"/>\n",
              "    <path d=\"M18.56 5.44l.94 2.06.94-2.06 2.06-.94-2.06-.94-.94-2.06-.94 2.06-2.06.94zm-11 1L8.5 8.5l.94-2.06 2.06-.94-2.06-.94L8.5 2.5l-.94 2.06-2.06.94zm10 10l.94 2.06.94-2.06 2.06-.94-2.06-.94-.94-2.06-.94 2.06-2.06.94z\"/><path d=\"M17.41 7.96l-1.37-1.37c-.4-.4-.92-.59-1.43-.59-.52 0-1.04.2-1.43.59L10.3 9.45l-7.72 7.72c-.78.78-.78 2.05 0 2.83L4 21.41c.39.39.9.59 1.41.59.51 0 1.02-.2 1.41-.59l7.78-7.78 2.81-2.81c.8-.78.8-2.07 0-2.86zM5.41 20L4 18.59l7.72-7.72 1.47 1.35L5.41 20z\"/>\n",
              "  </svg>\n",
              "      </button>\n",
              "      \n",
              "  <style>\n",
              "    .colab-df-container {\n",
              "      display:flex;\n",
              "      flex-wrap:wrap;\n",
              "      gap: 12px;\n",
              "    }\n",
              "\n",
              "    .colab-df-convert {\n",
              "      background-color: #E8F0FE;\n",
              "      border: none;\n",
              "      border-radius: 50%;\n",
              "      cursor: pointer;\n",
              "      display: none;\n",
              "      fill: #1967D2;\n",
              "      height: 32px;\n",
              "      padding: 0 0 0 0;\n",
              "      width: 32px;\n",
              "    }\n",
              "\n",
              "    .colab-df-convert:hover {\n",
              "      background-color: #E2EBFA;\n",
              "      box-shadow: 0px 1px 2px rgba(60, 64, 67, 0.3), 0px 1px 3px 1px rgba(60, 64, 67, 0.15);\n",
              "      fill: #174EA6;\n",
              "    }\n",
              "\n",
              "    [theme=dark] .colab-df-convert {\n",
              "      background-color: #3B4455;\n",
              "      fill: #D2E3FC;\n",
              "    }\n",
              "\n",
              "    [theme=dark] .colab-df-convert:hover {\n",
              "      background-color: #434B5C;\n",
              "      box-shadow: 0px 1px 3px 1px rgba(0, 0, 0, 0.15);\n",
              "      filter: drop-shadow(0px 1px 2px rgba(0, 0, 0, 0.3));\n",
              "      fill: #FFFFFF;\n",
              "    }\n",
              "  </style>\n",
              "\n",
              "      <script>\n",
              "        const buttonEl =\n",
              "          document.querySelector('#df-f2b87eeb-c70d-4411-b366-b604c92b4f22 button.colab-df-convert');\n",
              "        buttonEl.style.display =\n",
              "          google.colab.kernel.accessAllowed ? 'block' : 'none';\n",
              "\n",
              "        async function convertToInteractive(key) {\n",
              "          const element = document.querySelector('#df-f2b87eeb-c70d-4411-b366-b604c92b4f22');\n",
              "          const dataTable =\n",
              "            await google.colab.kernel.invokeFunction('convertToInteractive',\n",
              "                                                     [key], {});\n",
              "          if (!dataTable) return;\n",
              "\n",
              "          const docLinkHtml = 'Like what you see? Visit the ' +\n",
              "            '<a target=\"_blank\" href=https://colab.research.google.com/notebooks/data_table.ipynb>data table notebook</a>'\n",
              "            + ' to learn more about interactive tables.';\n",
              "          element.innerHTML = '';\n",
              "          dataTable['output_type'] = 'display_data';\n",
              "          await google.colab.output.renderOutput(dataTable, element);\n",
              "          const docLink = document.createElement('div');\n",
              "          docLink.innerHTML = docLinkHtml;\n",
              "          element.appendChild(docLink);\n",
              "        }\n",
              "      </script>\n",
              "    </div>\n",
              "  </div>\n",
              "  "
            ]
          },
          "metadata": {},
          "execution_count": 17
        }
      ]
    },
    {
      "cell_type": "code",
      "source": [
        "sns.lineplot(x = history_df.index, y = history_df.accuracy)\n",
        "sns.lineplot(x = history_df.index, y = history_df.loss)\n",
        "plt.show()"
      ],
      "metadata": {
        "colab": {
          "base_uri": "https://localhost:8080/",
          "height": 267
        },
        "id": "Ce7Sk8OhhR7Q",
        "outputId": "0c3dae7f-f602-4d98-dd01-f27e2bd492d2"
      },
      "execution_count": null,
      "outputs": [
        {
          "output_type": "display_data",
          "data": {
            "text/plain": [
              "<Figure size 432x288 with 1 Axes>"
            ],
            "image/png": "[encoded data removed]"
          },
          "metadata": {}
        }
      ]
    }
  ]
}